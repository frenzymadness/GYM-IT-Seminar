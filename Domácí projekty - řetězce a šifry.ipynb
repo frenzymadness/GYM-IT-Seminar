{
 "cells": [
  {
   "cell_type": "markdown",
   "metadata": {},
   "source": [
    "## Přepisování jmen v programech"
   ]
  },
  {
   "cell_type": "code",
   "execution_count": null,
   "metadata": {},
   "outputs": [],
   "source": [
    "input = input(\"Zadejte vstupní řetězec: \")"
   ]
  },
  {
   "cell_type": "markdown",
   "metadata": {},
   "source": [
    "## Řetězce v cyklech"
   ]
  },
  {
   "cell_type": "code",
   "execution_count": null,
   "metadata": {},
   "outputs": [],
   "source": [
    "for x in range(len(vstup)):\n",
    "    final += input[x]*2"
   ]
  },
  {
   "cell_type": "code",
   "execution_count": null,
   "metadata": {},
   "outputs": [],
   "source": [
    "for znak in vstup:\n",
    "    final += znak * 2"
   ]
  },
  {
   "cell_type": "markdown",
   "metadata": {},
   "source": [
    "## Stejné znaky na stejných pozicích"
   ]
  },
  {
   "cell_type": "code",
   "execution_count": null,
   "metadata": {},
   "outputs": [],
   "source": [
    "slovo1 = input(\"Zadej první slovo: \")\n",
    "slovo2 = input(\"Zadej druhé slovo: \")\n",
    "m = 0\n",
    "n = 1\n",
    "\n",
    "for i in slovo1:\n",
    "    cast = slovo1[m:n]\n",
    "    kousek = slovo2[m:n]\n",
    "    if cast == kousek:\n",
    "        print(cast.upper(), end=\"\")\n",
    "        m += 1\n",
    "        n += 1\n",
    "    else:\n",
    "        m += 1\n",
    "        n += 1"
   ]
  },
  {
   "cell_type": "code",
   "execution_count": null,
   "metadata": {},
   "outputs": [],
   "source": [
    "slovo1 = input(\"Zadej první slovo: \")\n",
    "slovo2 = input(\"Zadej druhé slovo: \")\n",
    "m = 0\n",
    "n = 1\n",
    "\n",
    "for i in slovo1:\n",
    "    cast = slovo1[m:n]\n",
    "    kousek = slovo2[m:n]\n",
    "    if cast == kousek:\n",
    "        print(cast.upper(), end=\"\")\n",
    "    m += 1\n",
    "    n += 1"
   ]
  },
  {
   "cell_type": "code",
   "execution_count": null,
   "metadata": {},
   "outputs": [],
   "source": [
    "slovo1 = input(\"Zadej první slovo: \")\n",
    "slovo2 = input(\"Zadej druhé slovo: \")\n",
    "m = 0\n",
    "n = 1\n",
    "\n",
    "for index in range(len(slovo1)):\n",
    "    if slovo1[index] == slovo2[index]:\n",
    "        print(slovo1[index], end=\"\")"
   ]
  },
  {
   "cell_type": "markdown",
   "metadata": {},
   "source": [
    "## Počet \"k\" v textu písně"
   ]
  },
  {
   "cell_type": "code",
   "execution_count": null,
   "metadata": {},
   "outputs": [],
   "source": [
    "k = 0\n",
    "for i in(\"\"\"Smutnej déšť a město v kouři,\n",
    "ticho prázdnejch rán,\n",
    "noční můry pijou silnej čaj.\n",
    "\n",
    "Smutnej déšť, oči mhouříš,\n",
    "už v nich nejsem sám,\n",
    "ještě málo žijou, když se ptaj.\n",
    "\n",
    "Znám tě mnohem víc, země vzdálená,\n",
    "spát s tajemnou závratí.\n",
    "\n",
    "Roky ztratí sílu,\n",
    "když ti dál šeptám:\n",
    "While my guitar gently weeps.\n",
    "\n",
    "Pod správnou hvězdou\n",
    "v malým ráji chtěl jsem říct:\n",
    "Still my guitar gently weeps.\n",
    "\n",
    "Den chová stín v záclonách,\n",
    "toulavejch pár koček strach,\n",
    "sen ti skrývá na víčkách,\n",
    "že jsi mou.\n",
    "\n",
    "Bláznům se jen může smát,\n",
    "když nám ráno dává mat,\n",
    "chtěl jsem dál jen poslouchat,\n",
    "že jsi má, že jsi má.\n",
    "\n",
    "Znám tě mnohem víc, země vzdálená,\n",
    "spát s tajemnou závratí.\n",
    "\n",
    "Znám tě mnohem víc, země vzdálená,\n",
    "spát s tajemnou závratí.\"\"\"):\n",
    "    if \"k\" in i:\n",
    "        k = k+1\n",
    "        \n",
    "print(k)"
   ]
  },
  {
   "cell_type": "code",
   "execution_count": null,
   "metadata": {},
   "outputs": [],
   "source": [
    "song = \"\"\"Smutnej déšť a město v kouři,\n",
    "ticho prázdnejch rán,\n",
    "noční můry pijou silnej čaj.\n",
    "\n",
    "Smutnej déšť, oči mhouříš,\n",
    "už v nich nejsem sám,\n",
    "ještě málo žijou, když se ptaj.\n",
    "\n",
    "Znám tě mnohem víc, země vzdálená,\n",
    "spát s tajemnou závratí.\n",
    "\n",
    "Roky ztratí sílu,\n",
    "když ti dál šeptám:\n",
    "While my guitar gently weeps.\n",
    "\n",
    "Pod správnou hvězdou\n",
    "v malým ráji chtěl jsem říct:\n",
    "Still my guitar gently weeps.\n",
    "\n",
    "Den chová stín v záclonách,\n",
    "toulavejch pár koček strach,\n",
    "sen ti skrývá na víčkách,\n",
    "že jsi mou.\n",
    "\n",
    "Bláznům se jen může smát,\n",
    "když nám ráno dává mat,\n",
    "chtěl jsem dál jen poslouchat,\n",
    "že jsi má, že jsi má.\n",
    "\n",
    "Znám tě mnohem víc, země vzdálená,\n",
    "spát s tajemnou závratí.\n",
    "\n",
    "Znám tě mnohem víc, země vzdálená,\n",
    "spát s tajemnou závratí.\"\"\"\n",
    "        \n",
    "print(song.count(\"k\"))"
   ]
  },
  {
   "cell_type": "markdown",
   "metadata": {},
   "source": [
    "## Abeceda ve standardní knihovně"
   ]
  },
  {
   "cell_type": "code",
   "execution_count": null,
   "metadata": {},
   "outputs": [],
   "source": [
    "from string import ascii_uppercase\n",
    "\n",
    "ascii_uppercase"
   ]
  },
  {
   "cell_type": "markdown",
   "metadata": {},
   "source": [
    "## Cyklus while"
   ]
  },
  {
   "cell_type": "code",
   "execution_count": null,
   "metadata": {},
   "outputs": [],
   "source": [
    "while cast == kousek:\n",
    "    print(cast.upper(), end=\"\")\n",
    "    break"
   ]
  },
  {
   "cell_type": "markdown",
   "metadata": {},
   "source": [
    "## Plagiáty"
   ]
  },
  {
   "cell_type": "code",
   "execution_count": null,
   "metadata": {},
   "outputs": [],
   "source": [
    "#Stejná část slova\n",
    "\n",
    "prvni_slovo = input(\"Zadej první slovo: \")\n",
    "druhe_slovo = input(\"Zadej druhé slovo: \")\n",
    "prvni_cast = 0\n",
    "druha_cast = 1\n",
    "\n",
    "\n",
    "for i in prvni_slovo:\n",
    "    cast = prvni_slovo[prvni_cast:druha_cast]\n",
    "    kousek = druhe_slovo[prvni_cast:druha_cast]\n",
    "    while cast == kousek:\n",
    "        print(cast.upper(), end=\"\")\n",
    "        break\n",
    "    prvni_cast = prvni_cast + 1\n",
    "    druha_cast = druha_cast + 1"
   ]
  },
  {
   "cell_type": "code",
   "execution_count": null,
   "metadata": {},
   "outputs": [],
   "source": [
    "# Stejné písmena\n",
    "\n",
    "slovo1 = input(\"Zadej první slovo: \")\n",
    "slovo2 = input(\"Zadej druhé slovo: \")\n",
    "cislo1 = 0\n",
    "cislo2 = 1\n",
    "cislo3 = 0\n",
    "cislo4 = 1\n",
    "\n",
    "for i in slovo1:\n",
    "    cast = slovo1[cislo1:cislo2]\n",
    "    kousek = slovo2[cislo1:cislo2]\n",
    "    while cast == kousek:\n",
    "        print(cast.upper(), end=\"\")\n",
    "        break\n",
    "    cislo1 = cislo1 + 1\n",
    "    cislo2 = cislo2 + 1"
   ]
  },
  {
   "cell_type": "markdown",
   "metadata": {},
   "source": [
    "![bart](images/bart-chalkboard.gif)"
   ]
  }
 ],
 "metadata": {
  "kernelspec": {
   "display_name": "Python 3",
   "language": "python",
   "name": "python3"
  },
  "language_info": {
   "codemirror_mode": {
    "name": "ipython",
    "version": 3
   },
   "file_extension": ".py",
   "mimetype": "text/x-python",
   "name": "python",
   "nbconvert_exporter": "python",
   "pygments_lexer": "ipython3",
   "version": "3.6.6"
  }
 },
 "nbformat": 4,
 "nbformat_minor": 2
}
