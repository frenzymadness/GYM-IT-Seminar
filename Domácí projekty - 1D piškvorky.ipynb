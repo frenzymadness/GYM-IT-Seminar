{
 "cells": [
  {
   "cell_type": "markdown",
   "metadata": {},
   "source": [
    "# 1D piškvorky"
   ]
  },
  {
   "cell_type": "markdown",
   "metadata": {},
   "source": [
    "## Řešení"
   ]
  },
  {
   "cell_type": "code",
   "execution_count": 2,
   "metadata": {},
   "outputs": [
    {
     "name": "stdout",
     "output_type": "stream",
     "text": [
      "--------------------\n"
     ]
    },
    {
     "name": "stdin",
     "output_type": "stream",
     "text": [
      "Na kterou pozici chceš hrát?  10\n"
     ]
    },
    {
     "name": "stdout",
     "output_type": "stream",
     "text": [
      "----------x---------\n",
      "----------x--o------\n"
     ]
    },
    {
     "name": "stdin",
     "output_type": "stream",
     "text": [
      "Na kterou pozici chceš hrát?  11\n"
     ]
    },
    {
     "name": "stdout",
     "output_type": "stream",
     "text": [
      "----------xx-o------\n",
      "--------o-xx-o------\n"
     ]
    },
    {
     "name": "stdin",
     "output_type": "stream",
     "text": [
      "Na kterou pozici chceš hrát?  12\n"
     ]
    },
    {
     "name": "stdout",
     "output_type": "stream",
     "text": [
      "--------o-xxxo------\n",
      "--------o-xxxo------\n",
      "Vyhrála jsi!\n"
     ]
    }
   ],
   "source": [
    "from random import randrange\n",
    "\n",
    "def vyhodnot(pole):\n",
    "    \"Vyhodnotí stav pole.\"\n",
    "    if 'xxx' in pole:\n",
    "        return \"x\"\n",
    "    elif 'ooo' in pole:\n",
    "        return \"o\"\n",
    "    elif '-' not in pole:\n",
    "        return \"!\"\n",
    "    else:\n",
    "        return '-'\n",
    "\n",
    "def tah(pole, pozice, symbol):\n",
    "    \"Vrátí herní pole s daným symbolem umístěným na danou pozici.\"\n",
    "    return pole[:pozice] + symbol + pole[pozice + 1:]\n",
    "\n",
    "def tah_hrace(herni_pole):\n",
    "    \"Ptá se hráče na kterou pozici chce hrát a vrací herní pole se zaznamenaným tahem\"\n",
    "    while True:\n",
    "        cislo_pozice = int(input(\"Na kterou pozici chceš hrát? \"))\n",
    "        if cislo_pozice >= 0 and cislo_pozice < len(herni_pole) and herni_pole[cislo_pozice] == \"-\":\n",
    "            return tah(herni_pole, cislo_pozice, \"x\")\n",
    "        else:\n",
    "            print(\"Špatná pozice, zkus to znovu. \")\n",
    "\n",
    "def tah_pocitace(herni_pole):\n",
    "    \"Vrátí herní pole se zaznamenaným tahem počítače. \"\n",
    "    while True:\n",
    "        cislo_pozice = randrange(len(herni_pole))\n",
    "        if herni_pole[cislo_pozice] == \"-\":\n",
    "            return tah(herni_pole, cislo_pozice, \"o\")\n",
    "\n",
    "def piskvorky():\n",
    "    \"Vygeneruje prázdné pole a střídá tah hráče a počítače. \"\n",
    "    pole = \"-\" * 20\n",
    "    while True:\n",
    "        print(pole)\n",
    "        pole = tah_hrace(pole)\n",
    "        print(pole)\n",
    "        if vyhodnot(pole) != '-':\n",
    "            break\n",
    "        pole = tah_pocitace(pole)\n",
    "        if vyhodnot(pole) != '-':\n",
    "            break\n",
    "    \n",
    "    print(pole)\n",
    "    if vyhodnot(pole) == '!':\n",
    "        print('Remíza!')\n",
    "    elif vyhodnot(pole) == 'x':\n",
    "        print('Vyhrála jsi!')\n",
    "    elif vyhodnot(pole) == 'o':\n",
    "        print('Vyhrál počítač!')\n",
    "\n",
    "piskvorky()"
   ]
  },
  {
   "cell_type": "markdown",
   "metadata": {},
   "source": [
    "## Špatné ošetření vstupu"
   ]
  },
  {
   "cell_type": "code",
   "execution_count": 9,
   "metadata": {},
   "outputs": [],
   "source": [
    "def tah_hrace(pole, symbol):\n",
    "    \"Zeptá se hráče kde chce hrát a vrátí pole se zaznamenaným tahem hráče\"\n",
    "    cislo = int(input(\"Zadej číslo políčka, na které chceš umístit symbol: \"))\n",
    "    while cislo <0:\n",
    "        cislo = int(input(\"Špatné číslo, zadej jiné: \"))\n",
    "    while cislo >19:\n",
    "        cislo = int(input(\"Špatné číslo, zadej jiné: \"))\n",
    "    while pole[cislo] == \"X\":\n",
    "        cislo = int(input(\"Špatne číslo, zadej jiné: \"))\n",
    "    while pole[cislo] == \"O\":\n",
    "        cislo = int(input(\"Špatne číslo, zadej jiné: \"))\n",
    "    pole = tah(pole, cislo, symbol)\n",
    "    return pole"
   ]
  },
  {
   "cell_type": "markdown",
   "metadata": {},
   "source": [
    "## Nejčastější chyby"
   ]
  },
  {
   "cell_type": "markdown",
   "metadata": {},
   "source": [
    "- Nevyhodnocení po každém tahu\n",
    "- `return` se závorkami"
   ]
  },
  {
   "cell_type": "markdown",
   "metadata": {},
   "source": [
    "## Zajímavá řešení"
   ]
  },
  {
   "cell_type": "markdown",
   "metadata": {},
   "source": [
    "### Řešení poskytnuté během kurzu PyLadies jako zbytečně složité nedokonalé"
   ]
  },
  {
   "cell_type": "code",
   "execution_count": 7,
   "metadata": {},
   "outputs": [],
   "source": [
    "def vyhodnot(pole):\n",
    "    \"Vyhodnotí stav pole.\"\n",
    "    krizek = \"xxx\"\n",
    "    kolecko = \"ooo\"\n",
    "    volno = \"-\"\n",
    "    if krizek in pole and kolecko not in pole:\n",
    "        return(\"x\")\n",
    "    elif kolecko in pole and krizek not in pole:\n",
    "        return(\"o\")\n",
    "    elif volno not in pole and krizek not in pole and kolecko not in pole:\n",
    "        return(\"!\")\n",
    "    else:\n",
    "        None"
   ]
  },
  {
   "cell_type": "markdown",
   "metadata": {},
   "source": [
    "### Řešení od vás"
   ]
  },
  {
   "cell_type": "code",
   "execution_count": 3,
   "metadata": {},
   "outputs": [],
   "source": [
    "def vyhodnot(pole):\n",
    "    \"Vyhodnotí stav pole.\"\n",
    "    krizek = \"xxx\"\n",
    "    kolecko = \"ooo\"\n",
    "    volno = \"-\"\n",
    "    if krizek in pole and kolecko not in pole:\n",
    "        return(\"x\")\n",
    "    elif kolecko in pole and krizek not in pole:\n",
    "        return(\"o\")\n",
    "    elif volno not in pole and krizek not in pole and kolecko not in pole:\n",
    "        return(\"!\")\n",
    "    else:\n",
    "        None"
   ]
  },
  {
   "cell_type": "code",
   "execution_count": 4,
   "metadata": {},
   "outputs": [],
   "source": [
    "def vyhodnot(pole):\n",
    "    krizek = \"××××\"\n",
    "    kolecko = \"οοοο\"\n",
    "    volno = \"-\"\n",
    "    if krizek in pole and kolecko not in pole:\n",
    "        return(\"×\")\n",
    "    elif kolecko in pole and krizek not in pole:\n",
    "        return(\"ο\")\n",
    "    elif volno not in pole and krizek not in pole and kolecko not in pole:\n",
    "        return(\"!\")"
   ]
  },
  {
   "cell_type": "code",
   "execution_count": 5,
   "metadata": {},
   "outputs": [],
   "source": [
    "def vyhodnot(hra):\n",
    "    \"Vrátí řetězec podle stavu hry.\"\n",
    "    krizek = \"xxx\"\n",
    "    kolecko = \"ooo\"\n",
    "    prazdne = \"-\"\n",
    "    if krizek in hra:\n",
    "        return(\"x\")\n",
    "    elif kolecko in hra:\n",
    "        return(\"o\")\n",
    "    elif prazdne not in hra and krizek not in hra and kolecko not in hra:\n",
    "        return(\"!\")\n",
    "    else:\n",
    "        None"
   ]
  },
  {
   "cell_type": "code",
   "execution_count": 6,
   "metadata": {},
   "outputs": [],
   "source": [
    "def vyhodnot(radek):\n",
    "    \"Vyhodnotí.\"\n",
    "    if \"xxx\" in radek:\n",
    "        return(\"x\")\n",
    "    elif \"ooo\" in radek:\n",
    "        return(\"o\")\n",
    "    elif volno not in radek :\n",
    "        return(\"remiza\")\n",
    "    else:\n",
    "        None"
   ]
  },
  {
   "cell_type": "code",
   "execution_count": null,
   "metadata": {},
   "outputs": [],
   "source": []
  }
 ],
 "metadata": {
  "kernelspec": {
   "display_name": "Python 3",
   "language": "python",
   "name": "python3"
  },
  "language_info": {
   "codemirror_mode": {
    "name": "ipython",
    "version": 3
   },
   "file_extension": ".py",
   "mimetype": "text/x-python",
   "name": "python",
   "nbconvert_exporter": "python",
   "pygments_lexer": "ipython3",
   "version": "3.6.6"
  }
 },
 "nbformat": 4,
 "nbformat_minor": 2
}
